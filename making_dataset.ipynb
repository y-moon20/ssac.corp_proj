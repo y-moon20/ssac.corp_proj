{
 "cells": [
  {
   "cell_type": "code",
   "execution_count": null,
   "id": "rL9heG15bit3",
   "metadata": {
    "id": "rL9heG15bit3"
   },
   "outputs": [],
   "source": []
  },
  {
   "cell_type": "code",
   "execution_count": null,
   "id": "dbb44feb",
   "metadata": {
    "ExecuteTime": {
     "end_time": "2021-12-27T16:05:47.354056Z",
     "start_time": "2021-12-27T16:05:46.887407Z"
    },
    "id": "dbb44feb"
   },
   "outputs": [],
   "source": [
    "import numpy as np\n",
    "import pandas as pd\n",
    "pd.set_option('display.max_columns', None)"
   ]
  },
  {
   "cell_type": "markdown",
   "id": "70b725fd",
   "metadata": {
    "id": "70b725fd"
   },
   "source": [
    "## 데이터불러오기"
   ]
  },
  {
   "cell_type": "code",
   "execution_count": null,
   "id": "bc9ea9e5",
   "metadata": {
    "ExecuteTime": {
     "end_time": "2021-12-27T16:05:49.420173Z",
     "start_time": "2021-12-27T16:05:48.336337Z"
    },
    "id": "bc9ea9e5"
   },
   "outputs": [],
   "source": [
    "ad = pd.read_csv('./data/ad.csv')\n",
    "adver= pd.read_csv('./data/advertiser.csv')\n",
    "implg = pd.read_csv('./data/impression_log.csv')\n",
    "vlg = pd.read_csv('./data/view_log.csv')\n",
    "viewer = pd.read_csv('./data/viewer.csv')"
   ]
  },
  {
   "cell_type": "code",
   "execution_count": null,
   "id": "3d3e3d49",
   "metadata": {
    "ExecuteTime": {
     "end_time": "2021-12-27T16:05:54.557101Z",
     "start_time": "2021-12-27T16:05:54.535550Z"
    },
    "id": "3d3e3d49"
   },
   "outputs": [],
   "source": [
    "ad = ad.rename(columns={'user_id':'adver_id', 'interest':'ad_interest','pfavcnt':'ad_pfavcnt'})\n",
    "adver.rename(columns = lambda x: \"adver_\"+x, inplace = True)\n",
    "adver = adver.rename(columns={'adver_user_id':'adver_id'})\n",
    "viewer.rename(columns = lambda x: \"user_\"+x, inplace = True)\n",
    "viewer = viewer.rename(columns={'user_user_id':'user_id'})"
   ]
  },
  {
   "cell_type": "markdown",
   "id": "d51af0d9",
   "metadata": {
    "id": "d51af0d9"
   },
   "source": [
    "## 데이터타입확인"
   ]
  },
  {
   "cell_type": "code",
   "execution_count": null,
   "id": "d5364c82",
   "metadata": {
    "ExecuteTime": {
     "end_time": "2021-12-27T16:05:55.738726Z",
     "start_time": "2021-12-27T16:05:55.719777Z"
    },
    "id": "d5364c82",
    "outputId": "f4bf9fd1-6526-4516-f288-c49557ebebbd"
   },
   "outputs": [
    {
     "name": "stdout",
     "output_type": "stream",
     "text": [
      "<class 'pandas.core.frame.DataFrame'>\n",
      "RangeIndex: 1427 entries, 0 to 1426\n",
      "Data columns (total 13 columns):\n",
      " #   Column         Non-Null Count  Dtype \n",
      "---  ------         --------------  ----- \n",
      " 0   content_id     1427 non-null   int64 \n",
      " 1   adver_id       1427 non-null   int64 \n",
      " 2   name           1427 non-null   object\n",
      " 3   keyword        1342 non-null   object\n",
      " 4   price          1427 non-null   int64 \n",
      " 5   flag_used      1427 non-null   int64 \n",
      " 6   category_id_1  1427 non-null   int64 \n",
      " 7   category_id_2  1427 non-null   int64 \n",
      " 8   category_id_3  1427 non-null   int64 \n",
      " 9   emergency_cnt  1427 non-null   int64 \n",
      " 10  comment_cnt    1427 non-null   int64 \n",
      " 11  ad_interest    1427 non-null   int64 \n",
      " 12  ad_pfavcnt     1427 non-null   int64 \n",
      "dtypes: int64(11), object(2)\n",
      "memory usage: 145.1+ KB\n"
     ]
    }
   ],
   "source": [
    "ad.info()"
   ]
  },
  {
   "cell_type": "code",
   "execution_count": null,
   "id": "8aa538a2",
   "metadata": {
    "ExecuteTime": {
     "end_time": "2021-12-27T16:05:56.891449Z",
     "start_time": "2021-12-27T16:05:56.869580Z"
    },
    "id": "8aa538a2",
    "outputId": "2ed3a588-56aa-450d-a312-9e3ba45c41b5"
   },
   "outputs": [
    {
     "name": "stdout",
     "output_type": "stream",
     "text": [
      "<class 'pandas.core.frame.DataFrame'>\n",
      "RangeIndex: 1539 entries, 0 to 1538\n",
      "Data columns (total 12 columns):\n",
      " #   Column                   Non-Null Count  Dtype\n",
      "---  ------                   --------------  -----\n",
      " 0   adver_id                 1539 non-null   int64\n",
      " 1   adver_favorite_count     1539 non-null   int64\n",
      " 2   adver_grade              1539 non-null   int64\n",
      " 3   adver_item_count         1539 non-null   int64\n",
      " 4   adver_interest           1539 non-null   int64\n",
      " 5   adver_review_count       1539 non-null   int64\n",
      " 6   adver_comment_count      1539 non-null   int64\n",
      " 7   adver_follower_count     1539 non-null   int64\n",
      " 8   adver_pay_count          1539 non-null   int64\n",
      " 9   adver_parcel_post_count  1539 non-null   int64\n",
      " 10  adver_transfer_count     1539 non-null   int64\n",
      " 11  adver_chat_count         1539 non-null   int64\n",
      "dtypes: int64(12)\n",
      "memory usage: 144.4 KB\n"
     ]
    }
   ],
   "source": [
    "adver.info()"
   ]
  },
  {
   "cell_type": "code",
   "execution_count": null,
   "id": "63f9f4c2",
   "metadata": {
    "ExecuteTime": {
     "end_time": "2021-12-27T16:05:57.727731Z",
     "start_time": "2021-12-27T16:05:57.620769Z"
    },
    "id": "63f9f4c2",
    "outputId": "95dc622e-6998-4276-d7e0-db6ee70e4051"
   },
   "outputs": [
    {
     "name": "stdout",
     "output_type": "stream",
     "text": [
      "<class 'pandas.core.frame.DataFrame'>\n",
      "RangeIndex: 852587 entries, 0 to 852586\n",
      "Data columns (total 6 columns):\n",
      " #   Column           Non-Null Count   Dtype \n",
      "---  ------           --------------   ----- \n",
      " 0   imp_id           852587 non-null  object\n",
      " 1   content_id       852587 non-null  int64 \n",
      " 2   server_time_kst  852587 non-null  object\n",
      " 3   bid_price        852587 non-null  int64 \n",
      " 4   user_id          852587 non-null  int64 \n",
      " 5   device_type      852587 non-null  object\n",
      "dtypes: int64(3), object(3)\n",
      "memory usage: 39.0+ MB\n"
     ]
    }
   ],
   "source": [
    "implg.info()"
   ]
  },
  {
   "cell_type": "code",
   "execution_count": null,
   "id": "24204bd3",
   "metadata": {
    "ExecuteTime": {
     "end_time": "2021-12-27T16:05:58.444581Z",
     "start_time": "2021-12-27T16:05:58.416909Z"
    },
    "id": "24204bd3",
    "outputId": "3db5ed78-da4e-439d-b179-aebda82ce61a",
    "scrolled": true
   },
   "outputs": [
    {
     "name": "stdout",
     "output_type": "stream",
     "text": [
      "<class 'pandas.core.frame.DataFrame'>\n",
      "RangeIndex: 27006 entries, 0 to 27005\n",
      "Data columns (total 4 columns):\n",
      " #   Column           Non-Null Count  Dtype \n",
      "---  ------           --------------  ----- \n",
      " 0   imp_id           27006 non-null  object\n",
      " 1   server_time_kst  27006 non-null  object\n",
      " 2   bid_price        27006 non-null  int64 \n",
      " 3   device_type      27006 non-null  object\n",
      "dtypes: int64(1), object(3)\n",
      "memory usage: 844.1+ KB\n"
     ]
    }
   ],
   "source": [
    "vlg.info()"
   ]
  },
  {
   "cell_type": "code",
   "execution_count": null,
   "id": "c555b6e3",
   "metadata": {
    "ExecuteTime": {
     "end_time": "2021-12-27T16:05:59.222868Z",
     "start_time": "2021-12-27T16:05:59.201903Z"
    },
    "id": "c555b6e3",
    "outputId": "223ff290-d2f5-4b72-a104-dfa8afe3d8e1"
   },
   "outputs": [
    {
     "name": "stdout",
     "output_type": "stream",
     "text": [
      "<class 'pandas.core.frame.DataFrame'>\n",
      "RangeIndex: 56381 entries, 0 to 56380\n",
      "Data columns (total 8 columns):\n",
      " #   Column                  Non-Null Count  Dtype\n",
      "---  ------                  --------------  -----\n",
      " 0   user_id                 56381 non-null  int64\n",
      " 1   user_gender             56381 non-null  int64\n",
      " 2   user_age                56381 non-null  int64\n",
      " 3   user_following_cnt      56381 non-null  int64\n",
      " 4   user_pay_count          56381 non-null  int64\n",
      " 5   user_parcel_post_count  56381 non-null  int64\n",
      " 6   user_transfer_count     56381 non-null  int64\n",
      " 7   user_chat_count         56381 non-null  int64\n",
      "dtypes: int64(8)\n",
      "memory usage: 3.4 MB\n"
     ]
    }
   ],
   "source": [
    "viewer.info()"
   ]
  },
  {
   "cell_type": "code",
   "execution_count": null,
   "id": "1e7bde29",
   "metadata": {
    "ExecuteTime": {
     "end_time": "2021-12-27T16:06:00.094759Z",
     "start_time": "2021-12-27T16:06:00.078789Z"
    },
    "id": "1e7bde29"
   },
   "outputs": [],
   "source": [
    "#ad['content_id'] = ad['content_id'].astype(str)\n",
    "#ad['user_id'] = ad['user_id'].astype(str)\n",
    "#adver['user_id'] = adver['user_id'].astype(str)\n",
    "#implg['user_id'] = implg['user_id'].astype(str)\n",
    "#implg['content_id'] = implg['content_id'].astype(str)\n",
    "#viewer['user_id'] = viewer['user_id'].astype(str)"
   ]
  },
  {
   "cell_type": "markdown",
   "id": "4c4775b2",
   "metadata": {
    "id": "4c4775b2"
   },
   "source": [
    "## 데이터 merge"
   ]
  },
  {
   "cell_type": "markdown",
   "id": "afc2e87b",
   "metadata": {
    "id": "afc2e87b"
   },
   "source": [
    "### impression_log&view_log table join"
   ]
  },
  {
   "cell_type": "code",
   "execution_count": null,
   "id": "2c3b0cd7",
   "metadata": {
    "ExecuteTime": {
     "end_time": "2021-12-27T16:06:04.138435Z",
     "start_time": "2021-12-27T16:06:03.268554Z"
    },
    "id": "2c3b0cd7"
   },
   "outputs": [],
   "source": [
    "# merge\n",
    "dataset = pd.merge(implg, vlg, how = 'left', on = 'imp_id')"
   ]
  },
  {
   "cell_type": "code",
   "execution_count": null,
   "id": "f5e13e36",
   "metadata": {
    "ExecuteTime": {
     "end_time": "2021-12-27T16:06:05.012962Z",
     "start_time": "2021-12-27T16:06:04.966833Z"
    },
    "id": "f5e13e36",
    "outputId": "8432c8d6-c65a-4728-bb62-8a8a6879d48a"
   },
   "outputs": [
    {
     "data": {
      "text/plain": [
       "26570"
      ]
     },
     "execution_count": 11,
     "metadata": {},
     "output_type": "execute_result"
    }
   ],
   "source": [
    "# click_label생성\n",
    "dataset['click_label'] = np.where(dataset['server_time_kst_y'].isnull(), 0, 1)\n",
    "dataset['click_label'].sum()"
   ]
  },
  {
   "cell_type": "code",
   "execution_count": null,
   "id": "a58ebe28",
   "metadata": {
    "ExecuteTime": {
     "end_time": "2021-12-27T16:06:11.927716Z",
     "start_time": "2021-12-27T16:06:05.894105Z"
    },
    "id": "a58ebe28"
   },
   "outputs": [],
   "source": [
    "# click_time 생성\n",
    "dataset['server_time_kst_x'] = pd.to_datetime(dataset['server_time_kst_x'])\n",
    "dataset['server_time_kst_y'] = pd.to_datetime(dataset['server_time_kst_y'])\n",
    "dataset['click_time'] = dataset['server_time_kst_y'] - dataset['server_time_kst_x']"
   ]
  },
  {
   "cell_type": "code",
   "execution_count": null,
   "id": "29826e76",
   "metadata": {
    "ExecuteTime": {
     "end_time": "2021-12-27T16:06:12.968964Z",
     "start_time": "2021-12-27T16:06:12.859805Z"
    },
    "id": "29826e76",
    "outputId": "a4bdaa44-e54e-4c02-9ca9-89f35b0cd7a7",
    "scrolled": false
   },
   "outputs": [
    {
     "name": "stdout",
     "output_type": "stream",
     "text": [
      "<class 'pandas.core.frame.DataFrame'>\n",
      "Int64Index: 854241 entries, 0 to 854240\n",
      "Data columns (total 11 columns):\n",
      " #   Column             Non-Null Count   Dtype                                \n",
      "---  ------             --------------   -----                                \n",
      " 0   imp_id             854241 non-null  object                               \n",
      " 1   content_id         854241 non-null  int64                                \n",
      " 2   server_time_kst_x  854241 non-null  datetime64[ns, pytz.FixedOffset(540)]\n",
      " 3   bid_price_x        854241 non-null  int64                                \n",
      " 4   user_id            854241 non-null  int64                                \n",
      " 5   device_type_x      854241 non-null  object                               \n",
      " 6   server_time_kst_y  26570 non-null   datetime64[ns, pytz.FixedOffset(540)]\n",
      " 7   bid_price_y        26570 non-null   float64                              \n",
      " 8   device_type_y      26570 non-null   object                               \n",
      " 9   click_label        854241 non-null  int32                                \n",
      " 10  click_time         26570 non-null   timedelta64[ns]                      \n",
      "dtypes: datetime64[ns, pytz.FixedOffset(540)](2), float64(1), int32(1), int64(3), object(3), timedelta64[ns](1)\n",
      "memory usage: 74.9+ MB\n"
     ]
    }
   ],
   "source": [
    "dataset.info()"
   ]
  },
  {
   "cell_type": "code",
   "execution_count": null,
   "id": "a3ff968b",
   "metadata": {
    "ExecuteTime": {
     "end_time": "2021-12-27T16:06:13.990413Z",
     "start_time": "2021-12-27T16:06:13.824428Z"
    },
    "id": "a3ff968b"
   },
   "outputs": [],
   "source": [
    "dataset.drop(['bid_price_y','device_type_y'], axis=1, inplace=True)"
   ]
  },
  {
   "cell_type": "code",
   "execution_count": null,
   "id": "82c23063",
   "metadata": {
    "ExecuteTime": {
     "end_time": "2021-12-27T16:06:14.849497Z",
     "start_time": "2021-12-27T16:06:14.835458Z"
    },
    "id": "82c23063"
   },
   "outputs": [],
   "source": [
    "log_backup = dataset"
   ]
  },
  {
   "cell_type": "code",
   "execution_count": null,
   "id": "5554ec11",
   "metadata": {
    "ExecuteTime": {
     "end_time": "2021-12-27T16:06:15.880475Z",
     "start_time": "2021-12-27T16:06:15.851093Z"
    },
    "id": "5554ec11",
    "outputId": "0b525138-0c31-47b7-ab5c-9087592bb835",
    "scrolled": true
   },
   "outputs": [
    {
     "data": {
      "text/html": [
       "<div>\n",
       "<style scoped>\n",
       "    .dataframe tbody tr th:only-of-type {\n",
       "        vertical-align: middle;\n",
       "    }\n",
       "\n",
       "    .dataframe tbody tr th {\n",
       "        vertical-align: top;\n",
       "    }\n",
       "\n",
       "    .dataframe thead th {\n",
       "        text-align: right;\n",
       "    }\n",
       "</style>\n",
       "<table border=\"1\" class=\"dataframe\">\n",
       "  <thead>\n",
       "    <tr style=\"text-align: right;\">\n",
       "      <th></th>\n",
       "      <th>imp_id</th>\n",
       "      <th>content_id</th>\n",
       "      <th>server_time_kst_x</th>\n",
       "      <th>bid_price_x</th>\n",
       "      <th>user_id</th>\n",
       "      <th>device_type_x</th>\n",
       "      <th>server_time_kst_y</th>\n",
       "      <th>click_label</th>\n",
       "      <th>click_time</th>\n",
       "    </tr>\n",
       "  </thead>\n",
       "  <tbody>\n",
       "    <tr>\n",
       "      <th>0</th>\n",
       "      <td>97cf612d3a7008353958</td>\n",
       "      <td>161592430</td>\n",
       "      <td>2021-08-31 05:07:20.945000+09:00</td>\n",
       "      <td>50</td>\n",
       "      <td>11555138</td>\n",
       "      <td>a</td>\n",
       "      <td>NaT</td>\n",
       "      <td>0</td>\n",
       "      <td>NaT</td>\n",
       "    </tr>\n",
       "    <tr>\n",
       "      <th>1</th>\n",
       "      <td>99d1612d39112085014f</td>\n",
       "      <td>162892746</td>\n",
       "      <td>2021-08-31 05:02:38.277000+09:00</td>\n",
       "      <td>50</td>\n",
       "      <td>1310312</td>\n",
       "      <td>a</td>\n",
       "      <td>NaT</td>\n",
       "      <td>0</td>\n",
       "      <td>NaT</td>\n",
       "    </tr>\n",
       "    <tr>\n",
       "      <th>2</th>\n",
       "      <td>97ca612d461111487741</td>\n",
       "      <td>162806628</td>\n",
       "      <td>2021-08-31 05:57:03.384000+09:00</td>\n",
       "      <td>55</td>\n",
       "      <td>76429349</td>\n",
       "      <td>a</td>\n",
       "      <td>NaT</td>\n",
       "      <td>0</td>\n",
       "      <td>NaT</td>\n",
       "    </tr>\n",
       "    <tr>\n",
       "      <th>3</th>\n",
       "      <td>97f9612d3995149e6b11</td>\n",
       "      <td>161593862</td>\n",
       "      <td>2021-08-31 05:03:49.145000+09:00</td>\n",
       "      <td>270</td>\n",
       "      <td>74800572</td>\n",
       "      <td>a</td>\n",
       "      <td>NaT</td>\n",
       "      <td>0</td>\n",
       "      <td>NaT</td>\n",
       "    </tr>\n",
       "    <tr>\n",
       "      <th>4</th>\n",
       "      <td>97f9612d3a22149eef25</td>\n",
       "      <td>161587624</td>\n",
       "      <td>2021-08-31 05:06:26.494000+09:00</td>\n",
       "      <td>50</td>\n",
       "      <td>4454345</td>\n",
       "      <td>a</td>\n",
       "      <td>NaT</td>\n",
       "      <td>0</td>\n",
       "      <td>NaT</td>\n",
       "    </tr>\n",
       "    <tr>\n",
       "      <th>...</th>\n",
       "      <td>...</td>\n",
       "      <td>...</td>\n",
       "      <td>...</td>\n",
       "      <td>...</td>\n",
       "      <td>...</td>\n",
       "      <td>...</td>\n",
       "      <td>...</td>\n",
       "      <td>...</td>\n",
       "      <td>...</td>\n",
       "    </tr>\n",
       "    <tr>\n",
       "      <th>854236</th>\n",
       "      <td>9919612e429a24183e0d</td>\n",
       "      <td>163247160</td>\n",
       "      <td>2021-08-31 23:54:23.433000+09:00</td>\n",
       "      <td>50</td>\n",
       "      <td>7660589</td>\n",
       "      <td>a</td>\n",
       "      <td>NaT</td>\n",
       "      <td>0</td>\n",
       "      <td>NaT</td>\n",
       "    </tr>\n",
       "    <tr>\n",
       "      <th>854237</th>\n",
       "      <td>998c612e425a027cdb47</td>\n",
       "      <td>78159183</td>\n",
       "      <td>2021-08-31 23:54:17.029000+09:00</td>\n",
       "      <td>65</td>\n",
       "      <td>3735841</td>\n",
       "      <td>a</td>\n",
       "      <td>NaT</td>\n",
       "      <td>0</td>\n",
       "      <td>NaT</td>\n",
       "    </tr>\n",
       "    <tr>\n",
       "      <th>854238</th>\n",
       "      <td>9919612e429724183042</td>\n",
       "      <td>152627901</td>\n",
       "      <td>2021-08-31 23:54:24.948000+09:00</td>\n",
       "      <td>70</td>\n",
       "      <td>9140358</td>\n",
       "      <td>a</td>\n",
       "      <td>2021-08-31 23:54:31.027000+09:00</td>\n",
       "      <td>1</td>\n",
       "      <td>0 days 00:00:06.079000</td>\n",
       "    </tr>\n",
       "    <tr>\n",
       "      <th>854239</th>\n",
       "      <td>97f9612e4295183f6e39</td>\n",
       "      <td>160836652</td>\n",
       "      <td>2021-08-31 23:54:20.398000+09:00</td>\n",
       "      <td>165</td>\n",
       "      <td>1668136</td>\n",
       "      <td>a</td>\n",
       "      <td>NaT</td>\n",
       "      <td>0</td>\n",
       "      <td>NaT</td>\n",
       "    </tr>\n",
       "    <tr>\n",
       "      <th>854240</th>\n",
       "      <td>998c612e426b027d43c3</td>\n",
       "      <td>140116266</td>\n",
       "      <td>2021-08-31 23:53:43.939000+09:00</td>\n",
       "      <td>85</td>\n",
       "      <td>6309266</td>\n",
       "      <td>a</td>\n",
       "      <td>NaT</td>\n",
       "      <td>0</td>\n",
       "      <td>NaT</td>\n",
       "    </tr>\n",
       "  </tbody>\n",
       "</table>\n",
       "<p>854241 rows × 9 columns</p>\n",
       "</div>"
      ],
      "text/plain": [
       "                      imp_id  content_id                server_time_kst_x  \\\n",
       "0       97cf612d3a7008353958   161592430 2021-08-31 05:07:20.945000+09:00   \n",
       "1       99d1612d39112085014f   162892746 2021-08-31 05:02:38.277000+09:00   \n",
       "2       97ca612d461111487741   162806628 2021-08-31 05:57:03.384000+09:00   \n",
       "3       97f9612d3995149e6b11   161593862 2021-08-31 05:03:49.145000+09:00   \n",
       "4       97f9612d3a22149eef25   161587624 2021-08-31 05:06:26.494000+09:00   \n",
       "...                      ...         ...                              ...   \n",
       "854236  9919612e429a24183e0d   163247160 2021-08-31 23:54:23.433000+09:00   \n",
       "854237  998c612e425a027cdb47    78159183 2021-08-31 23:54:17.029000+09:00   \n",
       "854238  9919612e429724183042   152627901 2021-08-31 23:54:24.948000+09:00   \n",
       "854239  97f9612e4295183f6e39   160836652 2021-08-31 23:54:20.398000+09:00   \n",
       "854240  998c612e426b027d43c3   140116266 2021-08-31 23:53:43.939000+09:00   \n",
       "\n",
       "        bid_price_x   user_id device_type_x                server_time_kst_y  \\\n",
       "0                50  11555138             a                              NaT   \n",
       "1                50   1310312             a                              NaT   \n",
       "2                55  76429349             a                              NaT   \n",
       "3               270  74800572             a                              NaT   \n",
       "4                50   4454345             a                              NaT   \n",
       "...             ...       ...           ...                              ...   \n",
       "854236           50   7660589             a                              NaT   \n",
       "854237           65   3735841             a                              NaT   \n",
       "854238           70   9140358             a 2021-08-31 23:54:31.027000+09:00   \n",
       "854239          165   1668136             a                              NaT   \n",
       "854240           85   6309266             a                              NaT   \n",
       "\n",
       "        click_label             click_time  \n",
       "0                 0                    NaT  \n",
       "1                 0                    NaT  \n",
       "2                 0                    NaT  \n",
       "3                 0                    NaT  \n",
       "4                 0                    NaT  \n",
       "...             ...                    ...  \n",
       "854236            0                    NaT  \n",
       "854237            0                    NaT  \n",
       "854238            1 0 days 00:00:06.079000  \n",
       "854239            0                    NaT  \n",
       "854240            0                    NaT  \n",
       "\n",
       "[854241 rows x 9 columns]"
      ]
     },
     "execution_count": 16,
     "metadata": {},
     "output_type": "execute_result"
    }
   ],
   "source": [
    "log_backup"
   ]
  },
  {
   "cell_type": "markdown",
   "id": "5b25b4fa",
   "metadata": {
    "id": "5b25b4fa"
   },
   "source": [
    "### viewer table join"
   ]
  },
  {
   "cell_type": "code",
   "execution_count": null,
   "id": "1889acb2",
   "metadata": {
    "ExecuteTime": {
     "end_time": "2021-12-27T16:06:16.898197Z",
     "start_time": "2021-12-27T16:06:16.884152Z"
    },
    "id": "1889acb2"
   },
   "outputs": [],
   "source": [
    "#dataset = log_backup"
   ]
  },
  {
   "cell_type": "code",
   "execution_count": null,
   "id": "ab02f5ee",
   "metadata": {
    "ExecuteTime": {
     "end_time": "2021-12-27T16:06:18.397210Z",
     "start_time": "2021-12-27T16:06:17.864328Z"
    },
    "id": "ab02f5ee"
   },
   "outputs": [],
   "source": [
    "# merge\n",
    "dataset = pd.merge(dataset, viewer, how = 'outer', on = 'user_id')"
   ]
  },
  {
   "cell_type": "code",
   "execution_count": null,
   "id": "d40edfee",
   "metadata": {
    "ExecuteTime": {
     "end_time": "2021-12-27T16:06:19.536890Z",
     "start_time": "2021-12-27T16:06:19.369761Z"
    },
    "id": "d40edfee",
    "outputId": "80383a3b-305b-464b-eab3-c28181d657c0"
   },
   "outputs": [
    {
     "name": "stdout",
     "output_type": "stream",
     "text": [
      "<class 'pandas.core.frame.DataFrame'>\n",
      "Int64Index: 854241 entries, 0 to 854240\n",
      "Data columns (total 16 columns):\n",
      " #   Column                  Non-Null Count   Dtype                                \n",
      "---  ------                  --------------   -----                                \n",
      " 0   imp_id                  854241 non-null  object                               \n",
      " 1   content_id              854241 non-null  int64                                \n",
      " 2   server_time_kst_x       854241 non-null  datetime64[ns, pytz.FixedOffset(540)]\n",
      " 3   bid_price_x             854241 non-null  int64                                \n",
      " 4   user_id                 854241 non-null  int64                                \n",
      " 5   device_type_x           854241 non-null  object                               \n",
      " 6   server_time_kst_y       26570 non-null   datetime64[ns, pytz.FixedOffset(540)]\n",
      " 7   click_label             854241 non-null  int32                                \n",
      " 8   click_time              26570 non-null   timedelta64[ns]                      \n",
      " 9   user_gender             854241 non-null  int64                                \n",
      " 10  user_age                854241 non-null  int64                                \n",
      " 11  user_following_cnt      854241 non-null  int64                                \n",
      " 12  user_pay_count          854241 non-null  int64                                \n",
      " 13  user_parcel_post_count  854241 non-null  int64                                \n",
      " 14  user_transfer_count     854241 non-null  int64                                \n",
      " 15  user_chat_count         854241 non-null  int64                                \n",
      "dtypes: datetime64[ns, pytz.FixedOffset(540)](2), int32(1), int64(10), object(2), timedelta64[ns](1)\n",
      "memory usage: 107.5+ MB\n"
     ]
    }
   ],
   "source": [
    "dataset.info()"
   ]
  },
  {
   "cell_type": "code",
   "execution_count": null,
   "id": "43bf3248",
   "metadata": {
    "ExecuteTime": {
     "end_time": "2021-12-27T16:06:20.548575Z",
     "start_time": "2021-12-27T16:06:20.534455Z"
    },
    "id": "43bf3248"
   },
   "outputs": [],
   "source": [
    "viewer_backup = dataset"
   ]
  },
  {
   "cell_type": "code",
   "execution_count": null,
   "id": "51d0931b",
   "metadata": {
    "ExecuteTime": {
     "end_time": "2021-12-27T16:06:21.712505Z",
     "start_time": "2021-12-27T16:06:21.681835Z"
    },
    "id": "51d0931b",
    "outputId": "321c82b2-b123-4d87-f28d-dfd873677227",
    "scrolled": true
   },
   "outputs": [
    {
     "data": {
      "text/html": [
       "<div>\n",
       "<style scoped>\n",
       "    .dataframe tbody tr th:only-of-type {\n",
       "        vertical-align: middle;\n",
       "    }\n",
       "\n",
       "    .dataframe tbody tr th {\n",
       "        vertical-align: top;\n",
       "    }\n",
       "\n",
       "    .dataframe thead th {\n",
       "        text-align: right;\n",
       "    }\n",
       "</style>\n",
       "<table border=\"1\" class=\"dataframe\">\n",
       "  <thead>\n",
       "    <tr style=\"text-align: right;\">\n",
       "      <th></th>\n",
       "      <th>imp_id</th>\n",
       "      <th>content_id</th>\n",
       "      <th>server_time_kst_x</th>\n",
       "      <th>bid_price_x</th>\n",
       "      <th>user_id</th>\n",
       "      <th>device_type_x</th>\n",
       "      <th>server_time_kst_y</th>\n",
       "      <th>click_label</th>\n",
       "      <th>click_time</th>\n",
       "      <th>user_gender</th>\n",
       "      <th>user_age</th>\n",
       "      <th>user_following_cnt</th>\n",
       "      <th>user_pay_count</th>\n",
       "      <th>user_parcel_post_count</th>\n",
       "      <th>user_transfer_count</th>\n",
       "      <th>user_chat_count</th>\n",
       "    </tr>\n",
       "  </thead>\n",
       "  <tbody>\n",
       "    <tr>\n",
       "      <th>0</th>\n",
       "      <td>97cf612d3a7008353958</td>\n",
       "      <td>161592430</td>\n",
       "      <td>2021-08-31 05:07:20.945000+09:00</td>\n",
       "      <td>50</td>\n",
       "      <td>11555138</td>\n",
       "      <td>a</td>\n",
       "      <td>NaT</td>\n",
       "      <td>0</td>\n",
       "      <td>NaT</td>\n",
       "      <td>0</td>\n",
       "      <td>0</td>\n",
       "      <td>0</td>\n",
       "      <td>0</td>\n",
       "      <td>0</td>\n",
       "      <td>0</td>\n",
       "      <td>0</td>\n",
       "    </tr>\n",
       "    <tr>\n",
       "      <th>1</th>\n",
       "      <td>97cf612d3a7008353959</td>\n",
       "      <td>161592430</td>\n",
       "      <td>2021-08-31 05:09:32.629000+09:00</td>\n",
       "      <td>50</td>\n",
       "      <td>11555138</td>\n",
       "      <td>a</td>\n",
       "      <td>NaT</td>\n",
       "      <td>0</td>\n",
       "      <td>NaT</td>\n",
       "      <td>0</td>\n",
       "      <td>0</td>\n",
       "      <td>0</td>\n",
       "      <td>0</td>\n",
       "      <td>0</td>\n",
       "      <td>0</td>\n",
       "      <td>0</td>\n",
       "    </tr>\n",
       "    <tr>\n",
       "      <th>2</th>\n",
       "      <td>99d1612d39112085014f</td>\n",
       "      <td>162892746</td>\n",
       "      <td>2021-08-31 05:02:38.277000+09:00</td>\n",
       "      <td>50</td>\n",
       "      <td>1310312</td>\n",
       "      <td>a</td>\n",
       "      <td>NaT</td>\n",
       "      <td>0</td>\n",
       "      <td>NaT</td>\n",
       "      <td>1</td>\n",
       "      <td>24</td>\n",
       "      <td>3</td>\n",
       "      <td>4</td>\n",
       "      <td>0</td>\n",
       "      <td>0</td>\n",
       "      <td>0</td>\n",
       "    </tr>\n",
       "    <tr>\n",
       "      <th>3</th>\n",
       "      <td>99d1612d3ce42088a64a</td>\n",
       "      <td>162523203</td>\n",
       "      <td>2021-08-31 05:17:44.428000+09:00</td>\n",
       "      <td>50</td>\n",
       "      <td>1310312</td>\n",
       "      <td>a</td>\n",
       "      <td>NaT</td>\n",
       "      <td>0</td>\n",
       "      <td>NaT</td>\n",
       "      <td>1</td>\n",
       "      <td>24</td>\n",
       "      <td>3</td>\n",
       "      <td>4</td>\n",
       "      <td>0</td>\n",
       "      <td>0</td>\n",
       "      <td>0</td>\n",
       "    </tr>\n",
       "    <tr>\n",
       "      <th>4</th>\n",
       "      <td>97f9612d3c7914a13817</td>\n",
       "      <td>162188490</td>\n",
       "      <td>2021-08-31 05:16:22.813000+09:00</td>\n",
       "      <td>60</td>\n",
       "      <td>1310312</td>\n",
       "      <td>a</td>\n",
       "      <td>NaT</td>\n",
       "      <td>0</td>\n",
       "      <td>NaT</td>\n",
       "      <td>1</td>\n",
       "      <td>24</td>\n",
       "      <td>3</td>\n",
       "      <td>4</td>\n",
       "      <td>0</td>\n",
       "      <td>0</td>\n",
       "      <td>0</td>\n",
       "    </tr>\n",
       "    <tr>\n",
       "      <th>...</th>\n",
       "      <td>...</td>\n",
       "      <td>...</td>\n",
       "      <td>...</td>\n",
       "      <td>...</td>\n",
       "      <td>...</td>\n",
       "      <td>...</td>\n",
       "      <td>...</td>\n",
       "      <td>...</td>\n",
       "      <td>...</td>\n",
       "      <td>...</td>\n",
       "      <td>...</td>\n",
       "      <td>...</td>\n",
       "      <td>...</td>\n",
       "      <td>...</td>\n",
       "      <td>...</td>\n",
       "      <td>...</td>\n",
       "    </tr>\n",
       "    <tr>\n",
       "      <th>854236</th>\n",
       "      <td>97cf612e43410bd90aec</td>\n",
       "      <td>139971377</td>\n",
       "      <td>2021-08-31 23:57:11.888000+09:00</td>\n",
       "      <td>50</td>\n",
       "      <td>8167017</td>\n",
       "      <td>a</td>\n",
       "      <td>NaT</td>\n",
       "      <td>0</td>\n",
       "      <td>NaT</td>\n",
       "      <td>1</td>\n",
       "      <td>25</td>\n",
       "      <td>0</td>\n",
       "      <td>0</td>\n",
       "      <td>0</td>\n",
       "      <td>0</td>\n",
       "      <td>1</td>\n",
       "    </tr>\n",
       "    <tr>\n",
       "      <th>854237</th>\n",
       "      <td>97cf612e3a330ba55dc9</td>\n",
       "      <td>161783213</td>\n",
       "      <td>2021-08-31 23:18:37.059000+09:00</td>\n",
       "      <td>60</td>\n",
       "      <td>5400893</td>\n",
       "      <td>a</td>\n",
       "      <td>NaT</td>\n",
       "      <td>0</td>\n",
       "      <td>NaT</td>\n",
       "      <td>1</td>\n",
       "      <td>51</td>\n",
       "      <td>20</td>\n",
       "      <td>0</td>\n",
       "      <td>0</td>\n",
       "      <td>0</td>\n",
       "      <td>0</td>\n",
       "    </tr>\n",
       "    <tr>\n",
       "      <th>854238</th>\n",
       "      <td>97cf612e39fe0ba41ada</td>\n",
       "      <td>162888538</td>\n",
       "      <td>2021-08-31 23:17:39.484000+09:00</td>\n",
       "      <td>50</td>\n",
       "      <td>10715484</td>\n",
       "      <td>a</td>\n",
       "      <td>2021-08-31 23:17:54.661000+09:00</td>\n",
       "      <td>1</td>\n",
       "      <td>0 days 00:00:15.177000</td>\n",
       "      <td>2</td>\n",
       "      <td>25</td>\n",
       "      <td>0</td>\n",
       "      <td>0</td>\n",
       "      <td>0</td>\n",
       "      <td>0</td>\n",
       "      <td>0</td>\n",
       "    </tr>\n",
       "    <tr>\n",
       "      <th>854239</th>\n",
       "      <td>99d1612e432c24298c35</td>\n",
       "      <td>73171724</td>\n",
       "      <td>2021-08-31 23:56:50.633000+09:00</td>\n",
       "      <td>50</td>\n",
       "      <td>76953656</td>\n",
       "      <td>a</td>\n",
       "      <td>NaT</td>\n",
       "      <td>0</td>\n",
       "      <td>NaT</td>\n",
       "      <td>1</td>\n",
       "      <td>26</td>\n",
       "      <td>0</td>\n",
       "      <td>0</td>\n",
       "      <td>0</td>\n",
       "      <td>0</td>\n",
       "      <td>0</td>\n",
       "    </tr>\n",
       "    <tr>\n",
       "      <th>854240</th>\n",
       "      <td>9919612e429a24183e0d</td>\n",
       "      <td>163247160</td>\n",
       "      <td>2021-08-31 23:54:23.433000+09:00</td>\n",
       "      <td>50</td>\n",
       "      <td>7660589</td>\n",
       "      <td>a</td>\n",
       "      <td>NaT</td>\n",
       "      <td>0</td>\n",
       "      <td>NaT</td>\n",
       "      <td>1</td>\n",
       "      <td>23</td>\n",
       "      <td>5</td>\n",
       "      <td>1</td>\n",
       "      <td>1</td>\n",
       "      <td>0</td>\n",
       "      <td>1</td>\n",
       "    </tr>\n",
       "  </tbody>\n",
       "</table>\n",
       "<p>854241 rows × 16 columns</p>\n",
       "</div>"
      ],
      "text/plain": [
       "                      imp_id  content_id                server_time_kst_x  \\\n",
       "0       97cf612d3a7008353958   161592430 2021-08-31 05:07:20.945000+09:00   \n",
       "1       97cf612d3a7008353959   161592430 2021-08-31 05:09:32.629000+09:00   \n",
       "2       99d1612d39112085014f   162892746 2021-08-31 05:02:38.277000+09:00   \n",
       "3       99d1612d3ce42088a64a   162523203 2021-08-31 05:17:44.428000+09:00   \n",
       "4       97f9612d3c7914a13817   162188490 2021-08-31 05:16:22.813000+09:00   \n",
       "...                      ...         ...                              ...   \n",
       "854236  97cf612e43410bd90aec   139971377 2021-08-31 23:57:11.888000+09:00   \n",
       "854237  97cf612e3a330ba55dc9   161783213 2021-08-31 23:18:37.059000+09:00   \n",
       "854238  97cf612e39fe0ba41ada   162888538 2021-08-31 23:17:39.484000+09:00   \n",
       "854239  99d1612e432c24298c35    73171724 2021-08-31 23:56:50.633000+09:00   \n",
       "854240  9919612e429a24183e0d   163247160 2021-08-31 23:54:23.433000+09:00   \n",
       "\n",
       "        bid_price_x   user_id device_type_x                server_time_kst_y  \\\n",
       "0                50  11555138             a                              NaT   \n",
       "1                50  11555138             a                              NaT   \n",
       "2                50   1310312             a                              NaT   \n",
       "3                50   1310312             a                              NaT   \n",
       "4                60   1310312             a                              NaT   \n",
       "...             ...       ...           ...                              ...   \n",
       "854236           50   8167017             a                              NaT   \n",
       "854237           60   5400893             a                              NaT   \n",
       "854238           50  10715484             a 2021-08-31 23:17:54.661000+09:00   \n",
       "854239           50  76953656             a                              NaT   \n",
       "854240           50   7660589             a                              NaT   \n",
       "\n",
       "        click_label             click_time  user_gender  user_age  \\\n",
       "0                 0                    NaT            0         0   \n",
       "1                 0                    NaT            0         0   \n",
       "2                 0                    NaT            1        24   \n",
       "3                 0                    NaT            1        24   \n",
       "4                 0                    NaT            1        24   \n",
       "...             ...                    ...          ...       ...   \n",
       "854236            0                    NaT            1        25   \n",
       "854237            0                    NaT            1        51   \n",
       "854238            1 0 days 00:00:15.177000            2        25   \n",
       "854239            0                    NaT            1        26   \n",
       "854240            0                    NaT            1        23   \n",
       "\n",
       "        user_following_cnt  user_pay_count  user_parcel_post_count  \\\n",
       "0                        0               0                       0   \n",
       "1                        0               0                       0   \n",
       "2                        3               4                       0   \n",
       "3                        3               4                       0   \n",
       "4                        3               4                       0   \n",
       "...                    ...             ...                     ...   \n",
       "854236                   0               0                       0   \n",
       "854237                  20               0                       0   \n",
       "854238                   0               0                       0   \n",
       "854239                   0               0                       0   \n",
       "854240                   5               1                       1   \n",
       "\n",
       "        user_transfer_count  user_chat_count  \n",
       "0                         0                0  \n",
       "1                         0                0  \n",
       "2                         0                0  \n",
       "3                         0                0  \n",
       "4                         0                0  \n",
       "...                     ...              ...  \n",
       "854236                    0                1  \n",
       "854237                    0                0  \n",
       "854238                    0                0  \n",
       "854239                    0                0  \n",
       "854240                    0                1  \n",
       "\n",
       "[854241 rows x 16 columns]"
      ]
     },
     "execution_count": 21,
     "metadata": {},
     "output_type": "execute_result"
    }
   ],
   "source": [
    "viewer_backup"
   ]
  },
  {
   "cell_type": "code",
   "execution_count": null,
   "id": "5a710d96",
   "metadata": {
    "id": "5a710d96"
   },
   "outputs": [],
   "source": []
  },
  {
   "cell_type": "markdown",
   "id": "e15feab5",
   "metadata": {
    "id": "e15feab5"
   },
   "source": [
    "### ad&advertiser table join"
   ]
  },
  {
   "cell_type": "code",
   "execution_count": null,
   "id": "ae31f1b5",
   "metadata": {
    "ExecuteTime": {
     "end_time": "2021-12-27T16:06:22.863312Z",
     "start_time": "2021-12-27T16:06:22.845233Z"
    },
    "id": "ae31f1b5",
    "outputId": "22a7c44d-b7d0-4fae-e741-e6d08700122c"
   },
   "outputs": [
    {
     "data": {
      "text/plain": [
       "308"
      ]
     },
     "execution_count": 22,
     "metadata": {},
     "output_type": "execute_result"
    }
   ],
   "source": [
    "ad['adver_id'].nunique()"
   ]
  },
  {
   "cell_type": "code",
   "execution_count": null,
   "id": "555465b5",
   "metadata": {
    "ExecuteTime": {
     "end_time": "2021-12-27T16:06:24.111295Z",
     "start_time": "2021-12-27T16:06:24.097863Z"
    },
    "id": "555465b5",
    "outputId": "fe8bef13-fbc3-4815-8d6c-6f4ea3bb969d"
   },
   "outputs": [
    {
     "data": {
      "text/plain": [
       "372"
      ]
     },
     "execution_count": 23,
     "metadata": {},
     "output_type": "execute_result"
    }
   ],
   "source": [
    "adver['adver_id'].nunique()"
   ]
  },
  {
   "cell_type": "code",
   "execution_count": null,
   "id": "c3e4b341",
   "metadata": {
    "ExecuteTime": {
     "end_time": "2021-12-27T16:06:25.213894Z",
     "start_time": "2021-12-27T16:06:25.204918Z"
    },
    "id": "c3e4b341"
   },
   "outputs": [],
   "source": [
    "adver = adver.drop_duplicates()"
   ]
  },
  {
   "cell_type": "code",
   "execution_count": null,
   "id": "fd8bf6db",
   "metadata": {
    "ExecuteTime": {
     "end_time": "2021-12-27T16:06:26.409546Z",
     "start_time": "2021-12-27T16:06:26.392588Z"
    },
    "id": "fd8bf6db"
   },
   "outputs": [],
   "source": [
    "adjoin = pd.merge(ad, adver, how = \"left\", on = \"adver_id\")"
   ]
  },
  {
   "cell_type": "code",
   "execution_count": null,
   "id": "e936bcc9",
   "metadata": {
    "ExecuteTime": {
     "end_time": "2021-12-27T16:06:27.761576Z",
     "start_time": "2021-12-27T16:06:27.732664Z"
    },
    "id": "e936bcc9",
    "outputId": "54eebbee-d591-45e8-db14-d85af9618068",
    "scrolled": false
   },
   "outputs": [
    {
     "name": "stdout",
     "output_type": "stream",
     "text": [
      "<class 'pandas.core.frame.DataFrame'>\n",
      "Int64Index: 1427 entries, 0 to 1426\n",
      "Data columns (total 24 columns):\n",
      " #   Column                   Non-Null Count  Dtype \n",
      "---  ------                   --------------  ----- \n",
      " 0   content_id               1427 non-null   int64 \n",
      " 1   adver_id                 1427 non-null   int64 \n",
      " 2   name                     1427 non-null   object\n",
      " 3   keyword                  1342 non-null   object\n",
      " 4   price                    1427 non-null   int64 \n",
      " 5   flag_used                1427 non-null   int64 \n",
      " 6   category_id_1            1427 non-null   int64 \n",
      " 7   category_id_2            1427 non-null   int64 \n",
      " 8   category_id_3            1427 non-null   int64 \n",
      " 9   emergency_cnt            1427 non-null   int64 \n",
      " 10  comment_cnt              1427 non-null   int64 \n",
      " 11  ad_interest              1427 non-null   int64 \n",
      " 12  ad_pfavcnt               1427 non-null   int64 \n",
      " 13  adver_favorite_count     1427 non-null   int64 \n",
      " 14  adver_grade              1427 non-null   int64 \n",
      " 15  adver_item_count         1427 non-null   int64 \n",
      " 16  adver_interest           1427 non-null   int64 \n",
      " 17  adver_review_count       1427 non-null   int64 \n",
      " 18  adver_comment_count      1427 non-null   int64 \n",
      " 19  adver_follower_count     1427 non-null   int64 \n",
      " 20  adver_pay_count          1427 non-null   int64 \n",
      " 21  adver_parcel_post_count  1427 non-null   int64 \n",
      " 22  adver_transfer_count     1427 non-null   int64 \n",
      " 23  adver_chat_count         1427 non-null   int64 \n",
      "dtypes: int64(22), object(2)\n",
      "memory usage: 278.7+ KB\n"
     ]
    }
   ],
   "source": [
    "adjoin.info()"
   ]
  },
  {
   "cell_type": "code",
   "execution_count": null,
   "id": "3a608b45",
   "metadata": {
    "id": "3a608b45"
   },
   "outputs": [],
   "source": []
  },
  {
   "cell_type": "markdown",
   "id": "98b06607",
   "metadata": {
    "id": "98b06607"
   },
   "source": [
    "### adjoin과 dataset join"
   ]
  },
  {
   "cell_type": "code",
   "execution_count": null,
   "id": "c2e6ef22",
   "metadata": {
    "ExecuteTime": {
     "end_time": "2021-12-27T16:06:29.061609Z",
     "start_time": "2021-12-27T16:06:29.046949Z"
    },
    "id": "c2e6ef22"
   },
   "outputs": [],
   "source": [
    "#dataset = viewer_backup"
   ]
  },
  {
   "cell_type": "code",
   "execution_count": null,
   "id": "95bfb900",
   "metadata": {
    "ExecuteTime": {
     "end_time": "2021-12-27T16:06:30.812253Z",
     "start_time": "2021-12-27T16:06:30.327808Z"
    },
    "id": "95bfb900"
   },
   "outputs": [],
   "source": [
    "dataset = pd.merge(dataset, adjoin, how = 'left', on = 'content_id')"
   ]
  },
  {
   "cell_type": "code",
   "execution_count": null,
   "id": "accc04ce",
   "metadata": {
    "ExecuteTime": {
     "end_time": "2021-12-27T16:06:32.613809Z",
     "start_time": "2021-12-27T16:06:32.326125Z"
    },
    "id": "accc04ce",
    "outputId": "047f2ecc-9ec4-4643-854d-6ca7c87d30ca",
    "scrolled": true
   },
   "outputs": [
    {
     "name": "stdout",
     "output_type": "stream",
     "text": [
      "<class 'pandas.core.frame.DataFrame'>\n",
      "Int64Index: 854241 entries, 0 to 854240\n",
      "Data columns (total 39 columns):\n",
      " #   Column                   Non-Null Count   Dtype                                \n",
      "---  ------                   --------------   -----                                \n",
      " 0   imp_id                   854241 non-null  object                               \n",
      " 1   content_id               854241 non-null  int64                                \n",
      " 2   server_time_kst_x        854241 non-null  datetime64[ns, pytz.FixedOffset(540)]\n",
      " 3   bid_price_x              854241 non-null  int64                                \n",
      " 4   user_id                  854241 non-null  int64                                \n",
      " 5   device_type_x            854241 non-null  object                               \n",
      " 6   server_time_kst_y        26570 non-null   datetime64[ns, pytz.FixedOffset(540)]\n",
      " 7   click_label              854241 non-null  int32                                \n",
      " 8   click_time               26570 non-null   timedelta64[ns]                      \n",
      " 9   user_gender              854241 non-null  int64                                \n",
      " 10  user_age                 854241 non-null  int64                                \n",
      " 11  user_following_cnt       854241 non-null  int64                                \n",
      " 12  user_pay_count           854241 non-null  int64                                \n",
      " 13  user_parcel_post_count   854241 non-null  int64                                \n",
      " 14  user_transfer_count      854241 non-null  int64                                \n",
      " 15  user_chat_count          854241 non-null  int64                                \n",
      " 16  adver_id                 783793 non-null  float64                              \n",
      " 17  name                     783793 non-null  object                               \n",
      " 18  keyword                  718991 non-null  object                               \n",
      " 19  price                    783793 non-null  float64                              \n",
      " 20  flag_used                783793 non-null  float64                              \n",
      " 21  category_id_1            783793 non-null  float64                              \n",
      " 22  category_id_2            783793 non-null  float64                              \n",
      " 23  category_id_3            783793 non-null  float64                              \n",
      " 24  emergency_cnt            783793 non-null  float64                              \n",
      " 25  comment_cnt              783793 non-null  float64                              \n",
      " 26  ad_interest              783793 non-null  float64                              \n",
      " 27  ad_pfavcnt               783793 non-null  float64                              \n",
      " 28  adver_favorite_count     783793 non-null  float64                              \n",
      " 29  adver_grade              783793 non-null  float64                              \n",
      " 30  adver_item_count         783793 non-null  float64                              \n",
      " 31  adver_interest           783793 non-null  float64                              \n",
      " 32  adver_review_count       783793 non-null  float64                              \n",
      " 33  adver_comment_count      783793 non-null  float64                              \n",
      " 34  adver_follower_count     783793 non-null  float64                              \n",
      " 35  adver_pay_count          783793 non-null  float64                              \n",
      " 36  adver_parcel_post_count  783793 non-null  float64                              \n",
      " 37  adver_transfer_count     783793 non-null  float64                              \n",
      " 38  adver_chat_count         783793 non-null  float64                              \n",
      "dtypes: datetime64[ns, pytz.FixedOffset(540)](2), float64(21), int32(1), int64(10), object(4), timedelta64[ns](1)\n",
      "memory usage: 257.4+ MB\n"
     ]
    }
   ],
   "source": [
    "dataset.info()"
   ]
  },
  {
   "cell_type": "code",
   "execution_count": null,
   "id": "63c9f6df",
   "metadata": {
    "ExecuteTime": {
     "end_time": "2021-12-27T16:06:34.158550Z",
     "start_time": "2021-12-27T16:06:34.113923Z"
    },
    "id": "63c9f6df",
    "outputId": "c59308f7-f6d0-4cbe-ad5d-580e606d785f"
   },
   "outputs": [
    {
     "data": {
      "text/html": [
       "<div>\n",
       "<style scoped>\n",
       "    .dataframe tbody tr th:only-of-type {\n",
       "        vertical-align: middle;\n",
       "    }\n",
       "\n",
       "    .dataframe tbody tr th {\n",
       "        vertical-align: top;\n",
       "    }\n",
       "\n",
       "    .dataframe thead th {\n",
       "        text-align: right;\n",
       "    }\n",
       "</style>\n",
       "<table border=\"1\" class=\"dataframe\">\n",
       "  <thead>\n",
       "    <tr style=\"text-align: right;\">\n",
       "      <th></th>\n",
       "      <th>imp_id</th>\n",
       "      <th>content_id</th>\n",
       "      <th>server_time_kst_x</th>\n",
       "      <th>bid_price_x</th>\n",
       "      <th>user_id</th>\n",
       "      <th>device_type_x</th>\n",
       "      <th>server_time_kst_y</th>\n",
       "      <th>click_label</th>\n",
       "      <th>click_time</th>\n",
       "      <th>user_gender</th>\n",
       "      <th>user_age</th>\n",
       "      <th>user_following_cnt</th>\n",
       "      <th>user_pay_count</th>\n",
       "      <th>user_parcel_post_count</th>\n",
       "      <th>user_transfer_count</th>\n",
       "      <th>user_chat_count</th>\n",
       "      <th>adver_id</th>\n",
       "      <th>name</th>\n",
       "      <th>keyword</th>\n",
       "      <th>price</th>\n",
       "      <th>flag_used</th>\n",
       "      <th>category_id_1</th>\n",
       "      <th>category_id_2</th>\n",
       "      <th>category_id_3</th>\n",
       "      <th>emergency_cnt</th>\n",
       "      <th>comment_cnt</th>\n",
       "      <th>ad_interest</th>\n",
       "      <th>ad_pfavcnt</th>\n",
       "      <th>adver_favorite_count</th>\n",
       "      <th>adver_grade</th>\n",
       "      <th>adver_item_count</th>\n",
       "      <th>adver_interest</th>\n",
       "      <th>adver_review_count</th>\n",
       "      <th>adver_comment_count</th>\n",
       "      <th>adver_follower_count</th>\n",
       "      <th>adver_pay_count</th>\n",
       "      <th>adver_parcel_post_count</th>\n",
       "      <th>adver_transfer_count</th>\n",
       "      <th>adver_chat_count</th>\n",
       "    </tr>\n",
       "  </thead>\n",
       "  <tbody>\n",
       "    <tr>\n",
       "      <th>0</th>\n",
       "      <td>97cf612d3a7008353958</td>\n",
       "      <td>161592430</td>\n",
       "      <td>2021-08-31 05:07:20.945000+09:00</td>\n",
       "      <td>50</td>\n",
       "      <td>11555138</td>\n",
       "      <td>a</td>\n",
       "      <td>NaT</td>\n",
       "      <td>0</td>\n",
       "      <td>NaT</td>\n",
       "      <td>0</td>\n",
       "      <td>0</td>\n",
       "      <td>0</td>\n",
       "      <td>0</td>\n",
       "      <td>0</td>\n",
       "      <td>0</td>\n",
       "      <td>0</td>\n",
       "      <td>NaN</td>\n",
       "      <td>NaN</td>\n",
       "      <td>NaN</td>\n",
       "      <td>NaN</td>\n",
       "      <td>NaN</td>\n",
       "      <td>NaN</td>\n",
       "      <td>NaN</td>\n",
       "      <td>NaN</td>\n",
       "      <td>NaN</td>\n",
       "      <td>NaN</td>\n",
       "      <td>NaN</td>\n",
       "      <td>NaN</td>\n",
       "      <td>NaN</td>\n",
       "      <td>NaN</td>\n",
       "      <td>NaN</td>\n",
       "      <td>NaN</td>\n",
       "      <td>NaN</td>\n",
       "      <td>NaN</td>\n",
       "      <td>NaN</td>\n",
       "      <td>NaN</td>\n",
       "      <td>NaN</td>\n",
       "      <td>NaN</td>\n",
       "      <td>NaN</td>\n",
       "    </tr>\n",
       "    <tr>\n",
       "      <th>1</th>\n",
       "      <td>97cf612d3a7008353959</td>\n",
       "      <td>161592430</td>\n",
       "      <td>2021-08-31 05:09:32.629000+09:00</td>\n",
       "      <td>50</td>\n",
       "      <td>11555138</td>\n",
       "      <td>a</td>\n",
       "      <td>NaT</td>\n",
       "      <td>0</td>\n",
       "      <td>NaT</td>\n",
       "      <td>0</td>\n",
       "      <td>0</td>\n",
       "      <td>0</td>\n",
       "      <td>0</td>\n",
       "      <td>0</td>\n",
       "      <td>0</td>\n",
       "      <td>0</td>\n",
       "      <td>NaN</td>\n",
       "      <td>NaN</td>\n",
       "      <td>NaN</td>\n",
       "      <td>NaN</td>\n",
       "      <td>NaN</td>\n",
       "      <td>NaN</td>\n",
       "      <td>NaN</td>\n",
       "      <td>NaN</td>\n",
       "      <td>NaN</td>\n",
       "      <td>NaN</td>\n",
       "      <td>NaN</td>\n",
       "      <td>NaN</td>\n",
       "      <td>NaN</td>\n",
       "      <td>NaN</td>\n",
       "      <td>NaN</td>\n",
       "      <td>NaN</td>\n",
       "      <td>NaN</td>\n",
       "      <td>NaN</td>\n",
       "      <td>NaN</td>\n",
       "      <td>NaN</td>\n",
       "      <td>NaN</td>\n",
       "      <td>NaN</td>\n",
       "      <td>NaN</td>\n",
       "    </tr>\n",
       "    <tr>\n",
       "      <th>2</th>\n",
       "      <td>99d1612d39112085014f</td>\n",
       "      <td>162892746</td>\n",
       "      <td>2021-08-31 05:02:38.277000+09:00</td>\n",
       "      <td>50</td>\n",
       "      <td>1310312</td>\n",
       "      <td>a</td>\n",
       "      <td>NaT</td>\n",
       "      <td>0</td>\n",
       "      <td>NaT</td>\n",
       "      <td>1</td>\n",
       "      <td>24</td>\n",
       "      <td>3</td>\n",
       "      <td>4</td>\n",
       "      <td>0</td>\n",
       "      <td>0</td>\n",
       "      <td>0</td>\n",
       "      <td>12851816.0</td>\n",
       "      <td>#한정판매#갤럭시Z플립2 그레이 256GB 중고폰 공기계[26583]</td>\n",
       "      <td>갤럭시Z플립2,Z플립2그레이,Z플립2</td>\n",
       "      <td>620000.0</td>\n",
       "      <td>1.0</td>\n",
       "      <td>600.0</td>\n",
       "      <td>600700.0</td>\n",
       "      <td>600700001.0</td>\n",
       "      <td>0.0</td>\n",
       "      <td>0.0</td>\n",
       "      <td>353.0</td>\n",
       "      <td>9.0</td>\n",
       "      <td>2131.0</td>\n",
       "      <td>5285.0</td>\n",
       "      <td>247.0</td>\n",
       "      <td>4525.0</td>\n",
       "      <td>542.0</td>\n",
       "      <td>739.0</td>\n",
       "      <td>0.0</td>\n",
       "      <td>496.0</td>\n",
       "      <td>0.0</td>\n",
       "      <td>0.0</td>\n",
       "      <td>11.0</td>\n",
       "    </tr>\n",
       "    <tr>\n",
       "      <th>3</th>\n",
       "      <td>99d1612d3ce42088a64a</td>\n",
       "      <td>162523203</td>\n",
       "      <td>2021-08-31 05:17:44.428000+09:00</td>\n",
       "      <td>50</td>\n",
       "      <td>1310312</td>\n",
       "      <td>a</td>\n",
       "      <td>NaT</td>\n",
       "      <td>0</td>\n",
       "      <td>NaT</td>\n",
       "      <td>1</td>\n",
       "      <td>24</td>\n",
       "      <td>3</td>\n",
       "      <td>4</td>\n",
       "      <td>0</td>\n",
       "      <td>0</td>\n",
       "      <td>0</td>\n",
       "      <td>12211204.0</td>\n",
       "      <td>갤럭시Z플립3 라벤더 29만원</td>\n",
       "      <td>Z플립2,Z플립5G,Z플립3,갤럭시Z플립3,갤럭시Z플립5G</td>\n",
       "      <td>290000.0</td>\n",
       "      <td>2.0</td>\n",
       "      <td>600.0</td>\n",
       "      <td>600700.0</td>\n",
       "      <td>600700001.0</td>\n",
       "      <td>3.0</td>\n",
       "      <td>0.0</td>\n",
       "      <td>11304.0</td>\n",
       "      <td>157.0</td>\n",
       "      <td>1320.0</td>\n",
       "      <td>1600.0</td>\n",
       "      <td>160.0</td>\n",
       "      <td>1728.0</td>\n",
       "      <td>161.0</td>\n",
       "      <td>0.0</td>\n",
       "      <td>0.0</td>\n",
       "      <td>0.0</td>\n",
       "      <td>0.0</td>\n",
       "      <td>0.0</td>\n",
       "      <td>2.0</td>\n",
       "    </tr>\n",
       "    <tr>\n",
       "      <th>4</th>\n",
       "      <td>97f9612d3c7914a13817</td>\n",
       "      <td>162188490</td>\n",
       "      <td>2021-08-31 05:16:22.813000+09:00</td>\n",
       "      <td>60</td>\n",
       "      <td>1310312</td>\n",
       "      <td>a</td>\n",
       "      <td>NaT</td>\n",
       "      <td>0</td>\n",
       "      <td>NaT</td>\n",
       "      <td>1</td>\n",
       "      <td>24</td>\n",
       "      <td>3</td>\n",
       "      <td>4</td>\n",
       "      <td>0</td>\n",
       "      <td>0</td>\n",
       "      <td>0</td>\n",
       "      <td>201368.0</td>\n",
       "      <td>갤럭시z플립3 선착순10명 사전예약</td>\n",
       "      <td>NaN</td>\n",
       "      <td>690000.0</td>\n",
       "      <td>2.0</td>\n",
       "      <td>600.0</td>\n",
       "      <td>600700.0</td>\n",
       "      <td>600700001.0</td>\n",
       "      <td>0.0</td>\n",
       "      <td>0.0</td>\n",
       "      <td>9668.0</td>\n",
       "      <td>92.0</td>\n",
       "      <td>8299.0</td>\n",
       "      <td>5910.0</td>\n",
       "      <td>504.0</td>\n",
       "      <td>151963.0</td>\n",
       "      <td>598.0</td>\n",
       "      <td>1.0</td>\n",
       "      <td>0.0</td>\n",
       "      <td>0.0</td>\n",
       "      <td>0.0</td>\n",
       "      <td>0.0</td>\n",
       "      <td>70.0</td>\n",
       "    </tr>\n",
       "  </tbody>\n",
       "</table>\n",
       "</div>"
      ],
      "text/plain": [
       "                 imp_id  content_id                server_time_kst_x  \\\n",
       "0  97cf612d3a7008353958   161592430 2021-08-31 05:07:20.945000+09:00   \n",
       "1  97cf612d3a7008353959   161592430 2021-08-31 05:09:32.629000+09:00   \n",
       "2  99d1612d39112085014f   162892746 2021-08-31 05:02:38.277000+09:00   \n",
       "3  99d1612d3ce42088a64a   162523203 2021-08-31 05:17:44.428000+09:00   \n",
       "4  97f9612d3c7914a13817   162188490 2021-08-31 05:16:22.813000+09:00   \n",
       "\n",
       "   bid_price_x   user_id device_type_x server_time_kst_y  click_label  \\\n",
       "0           50  11555138             a               NaT            0   \n",
       "1           50  11555138             a               NaT            0   \n",
       "2           50   1310312             a               NaT            0   \n",
       "3           50   1310312             a               NaT            0   \n",
       "4           60   1310312             a               NaT            0   \n",
       "\n",
       "  click_time  user_gender  user_age  user_following_cnt  user_pay_count  \\\n",
       "0        NaT            0         0                   0               0   \n",
       "1        NaT            0         0                   0               0   \n",
       "2        NaT            1        24                   3               4   \n",
       "3        NaT            1        24                   3               4   \n",
       "4        NaT            1        24                   3               4   \n",
       "\n",
       "   user_parcel_post_count  user_transfer_count  user_chat_count    adver_id  \\\n",
       "0                       0                    0                0         NaN   \n",
       "1                       0                    0                0         NaN   \n",
       "2                       0                    0                0  12851816.0   \n",
       "3                       0                    0                0  12211204.0   \n",
       "4                       0                    0                0    201368.0   \n",
       "\n",
       "                                     name                           keyword  \\\n",
       "0                                     NaN                               NaN   \n",
       "1                                     NaN                               NaN   \n",
       "2  #한정판매#갤럭시Z플립2 그레이 256GB 중고폰 공기계[26583]              갤럭시Z플립2,Z플립2그레이,Z플립2   \n",
       "3                        갤럭시Z플립3 라벤더 29만원  Z플립2,Z플립5G,Z플립3,갤럭시Z플립3,갤럭시Z플립5G   \n",
       "4                     갤럭시z플립3 선착순10명 사전예약                               NaN   \n",
       "\n",
       "      price  flag_used  category_id_1  category_id_2  category_id_3  \\\n",
       "0       NaN        NaN            NaN            NaN            NaN   \n",
       "1       NaN        NaN            NaN            NaN            NaN   \n",
       "2  620000.0        1.0          600.0       600700.0    600700001.0   \n",
       "3  290000.0        2.0          600.0       600700.0    600700001.0   \n",
       "4  690000.0        2.0          600.0       600700.0    600700001.0   \n",
       "\n",
       "   emergency_cnt  comment_cnt  ad_interest  ad_pfavcnt  adver_favorite_count  \\\n",
       "0            NaN          NaN          NaN         NaN                   NaN   \n",
       "1            NaN          NaN          NaN         NaN                   NaN   \n",
       "2            0.0          0.0        353.0         9.0                2131.0   \n",
       "3            3.0          0.0      11304.0       157.0                1320.0   \n",
       "4            0.0          0.0       9668.0        92.0                8299.0   \n",
       "\n",
       "   adver_grade  adver_item_count  adver_interest  adver_review_count  \\\n",
       "0          NaN               NaN             NaN                 NaN   \n",
       "1          NaN               NaN             NaN                 NaN   \n",
       "2       5285.0             247.0          4525.0               542.0   \n",
       "3       1600.0             160.0          1728.0               161.0   \n",
       "4       5910.0             504.0        151963.0               598.0   \n",
       "\n",
       "   adver_comment_count  adver_follower_count  adver_pay_count  \\\n",
       "0                  NaN                   NaN              NaN   \n",
       "1                  NaN                   NaN              NaN   \n",
       "2                739.0                   0.0            496.0   \n",
       "3                  0.0                   0.0              0.0   \n",
       "4                  1.0                   0.0              0.0   \n",
       "\n",
       "   adver_parcel_post_count  adver_transfer_count  adver_chat_count  \n",
       "0                      NaN                   NaN               NaN  \n",
       "1                      NaN                   NaN               NaN  \n",
       "2                      0.0                   0.0              11.0  \n",
       "3                      0.0                   0.0               2.0  \n",
       "4                      0.0                   0.0              70.0  "
      ]
     },
     "execution_count": 30,
     "metadata": {},
     "output_type": "execute_result"
    }
   ],
   "source": [
    "dataset.head()"
   ]
  },
  {
   "cell_type": "code",
   "execution_count": null,
   "id": "5a360818",
   "metadata": {
    "ExecuteTime": {
     "end_time": "2021-12-27T16:06:35.913865Z",
     "start_time": "2021-12-27T16:06:35.694388Z"
    },
    "id": "5a360818"
   },
   "outputs": [],
   "source": [
    "dataset['adver_id'] = dataset['adver_id'].fillna(0)\n",
    "dataset['category_id_1'] = dataset['category_id_1'].fillna(0)\n",
    "dataset['category_id_2'] = dataset['category_id_2'].fillna(0)\n",
    "dataset['category_id_3'] = dataset['category_id_3'].fillna(0)\n",
    "\n",
    "\n",
    "dataset['adver_id'] = dataset['adver_id'].astype(int)\n",
    "dataset['category_id_1'] = dataset['category_id_1'].astype(int)\n",
    "dataset['category_id_2'] = dataset['category_id_2'].astype(int)\n",
    "dataset['category_id_3'] = dataset['category_id_3'].astype(int)"
   ]
  },
  {
   "cell_type": "code",
   "execution_count": null,
   "id": "940dbf49",
   "metadata": {
    "ExecuteTime": {
     "end_time": "2021-12-27T16:06:37.679775Z",
     "start_time": "2021-12-27T16:06:37.390046Z"
    },
    "id": "940dbf49",
    "outputId": "1c557190-8e29-4776-c0fc-f14ad033ef72",
    "scrolled": true
   },
   "outputs": [
    {
     "name": "stdout",
     "output_type": "stream",
     "text": [
      "<class 'pandas.core.frame.DataFrame'>\n",
      "Int64Index: 854241 entries, 0 to 854240\n",
      "Data columns (total 39 columns):\n",
      " #   Column                   Non-Null Count   Dtype                                \n",
      "---  ------                   --------------   -----                                \n",
      " 0   imp_id                   854241 non-null  object                               \n",
      " 1   content_id               854241 non-null  int64                                \n",
      " 2   server_time_kst_x        854241 non-null  datetime64[ns, pytz.FixedOffset(540)]\n",
      " 3   bid_price_x              854241 non-null  int64                                \n",
      " 4   user_id                  854241 non-null  int64                                \n",
      " 5   device_type_x            854241 non-null  object                               \n",
      " 6   server_time_kst_y        26570 non-null   datetime64[ns, pytz.FixedOffset(540)]\n",
      " 7   click_label              854241 non-null  int32                                \n",
      " 8   click_time               26570 non-null   timedelta64[ns]                      \n",
      " 9   user_gender              854241 non-null  int64                                \n",
      " 10  user_age                 854241 non-null  int64                                \n",
      " 11  user_following_cnt       854241 non-null  int64                                \n",
      " 12  user_pay_count           854241 non-null  int64                                \n",
      " 13  user_parcel_post_count   854241 non-null  int64                                \n",
      " 14  user_transfer_count      854241 non-null  int64                                \n",
      " 15  user_chat_count          854241 non-null  int64                                \n",
      " 16  adver_id                 854241 non-null  int32                                \n",
      " 17  name                     783793 non-null  object                               \n",
      " 18  keyword                  718991 non-null  object                               \n",
      " 19  price                    783793 non-null  float64                              \n",
      " 20  flag_used                783793 non-null  float64                              \n",
      " 21  category_id_1            854241 non-null  int32                                \n",
      " 22  category_id_2            854241 non-null  int32                                \n",
      " 23  category_id_3            854241 non-null  int32                                \n",
      " 24  emergency_cnt            783793 non-null  float64                              \n",
      " 25  comment_cnt              783793 non-null  float64                              \n",
      " 26  ad_interest              783793 non-null  float64                              \n",
      " 27  ad_pfavcnt               783793 non-null  float64                              \n",
      " 28  adver_favorite_count     783793 non-null  float64                              \n",
      " 29  adver_grade              783793 non-null  float64                              \n",
      " 30  adver_item_count         783793 non-null  float64                              \n",
      " 31  adver_interest           783793 non-null  float64                              \n",
      " 32  adver_review_count       783793 non-null  float64                              \n",
      " 33  adver_comment_count      783793 non-null  float64                              \n",
      " 34  adver_follower_count     783793 non-null  float64                              \n",
      " 35  adver_pay_count          783793 non-null  float64                              \n",
      " 36  adver_parcel_post_count  783793 non-null  float64                              \n",
      " 37  adver_transfer_count     783793 non-null  float64                              \n",
      " 38  adver_chat_count         783793 non-null  float64                              \n",
      "dtypes: datetime64[ns, pytz.FixedOffset(540)](2), float64(17), int32(5), int64(10), object(4), timedelta64[ns](1)\n",
      "memory usage: 244.4+ MB\n"
     ]
    }
   ],
   "source": [
    "dataset.info()"
   ]
  },
  {
   "cell_type": "code",
   "execution_count": null,
   "id": "14b42c55",
   "metadata": {
    "id": "14b42c55"
   },
   "outputs": [],
   "source": []
  },
  {
   "cell_type": "code",
   "execution_count": null,
   "id": "ce91b5f8",
   "metadata": {
    "ExecuteTime": {
     "end_time": "2021-12-27T16:06:41.905346Z",
     "start_time": "2021-12-27T16:06:39.154415Z"
    },
    "id": "ce91b5f8"
   },
   "outputs": [],
   "source": [
    "dataset.drop_duplicates(inplace=True)"
   ]
  },
  {
   "cell_type": "code",
   "execution_count": null,
   "id": "49a5fb1b",
   "metadata": {
    "ExecuteTime": {
     "end_time": "2021-12-27T16:06:43.755617Z",
     "start_time": "2021-12-27T16:06:43.461040Z"
    },
    "id": "49a5fb1b",
    "outputId": "a1d5edac-2beb-4ac0-d929-dc4bfb10ea1e",
    "scrolled": true
   },
   "outputs": [
    {
     "name": "stdout",
     "output_type": "stream",
     "text": [
      "<class 'pandas.core.frame.DataFrame'>\n",
      "Int64Index: 853361 entries, 0 to 854240\n",
      "Data columns (total 39 columns):\n",
      " #   Column                   Non-Null Count   Dtype                                \n",
      "---  ------                   --------------   -----                                \n",
      " 0   imp_id                   853361 non-null  object                               \n",
      " 1   content_id               853361 non-null  int64                                \n",
      " 2   server_time_kst_x        853361 non-null  datetime64[ns, pytz.FixedOffset(540)]\n",
      " 3   bid_price_x              853361 non-null  int64                                \n",
      " 4   user_id                  853361 non-null  int64                                \n",
      " 5   device_type_x            853361 non-null  object                               \n",
      " 6   server_time_kst_y        26516 non-null   datetime64[ns, pytz.FixedOffset(540)]\n",
      " 7   click_label              853361 non-null  int32                                \n",
      " 8   click_time               26516 non-null   timedelta64[ns]                      \n",
      " 9   user_gender              853361 non-null  int64                                \n",
      " 10  user_age                 853361 non-null  int64                                \n",
      " 11  user_following_cnt       853361 non-null  int64                                \n",
      " 12  user_pay_count           853361 non-null  int64                                \n",
      " 13  user_parcel_post_count   853361 non-null  int64                                \n",
      " 14  user_transfer_count      853361 non-null  int64                                \n",
      " 15  user_chat_count          853361 non-null  int64                                \n",
      " 16  adver_id                 853361 non-null  int32                                \n",
      " 17  name                     783010 non-null  object                               \n",
      " 18  keyword                  718299 non-null  object                               \n",
      " 19  price                    783010 non-null  float64                              \n",
      " 20  flag_used                783010 non-null  float64                              \n",
      " 21  category_id_1            853361 non-null  int32                                \n",
      " 22  category_id_2            853361 non-null  int32                                \n",
      " 23  category_id_3            853361 non-null  int32                                \n",
      " 24  emergency_cnt            783010 non-null  float64                              \n",
      " 25  comment_cnt              783010 non-null  float64                              \n",
      " 26  ad_interest              783010 non-null  float64                              \n",
      " 27  ad_pfavcnt               783010 non-null  float64                              \n",
      " 28  adver_favorite_count     783010 non-null  float64                              \n",
      " 29  adver_grade              783010 non-null  float64                              \n",
      " 30  adver_item_count         783010 non-null  float64                              \n",
      " 31  adver_interest           783010 non-null  float64                              \n",
      " 32  adver_review_count       783010 non-null  float64                              \n",
      " 33  adver_comment_count      783010 non-null  float64                              \n",
      " 34  adver_follower_count     783010 non-null  float64                              \n",
      " 35  adver_pay_count          783010 non-null  float64                              \n",
      " 36  adver_parcel_post_count  783010 non-null  float64                              \n",
      " 37  adver_transfer_count     783010 non-null  float64                              \n",
      " 38  adver_chat_count         783010 non-null  float64                              \n",
      "dtypes: datetime64[ns, pytz.FixedOffset(540)](2), float64(17), int32(5), int64(10), object(4), timedelta64[ns](1)\n",
      "memory usage: 244.1+ MB\n"
     ]
    }
   ],
   "source": [
    "dataset.info()"
   ]
  },
  {
   "cell_type": "code",
   "execution_count": null,
   "id": "5496de14",
   "metadata": {
    "id": "5496de14"
   },
   "outputs": [],
   "source": []
  },
  {
   "cell_type": "markdown",
   "id": "6ba594b0",
   "metadata": {
    "id": "6ba594b0"
   },
   "source": [
    "## 주어진 dataset에서 필요한 데이터 추출하여 merge"
   ]
  },
  {
   "cell_type": "code",
   "execution_count": null,
   "id": "ce9958a7",
   "metadata": {
    "ExecuteTime": {
     "start_time": "2021-12-27T16:06:32.792Z"
    },
    "id": "ce9958a7"
   },
   "outputs": [],
   "source": [
    "df = pd.read_csv('./data/dataset.csv')\n",
    "subset = df[['content_id','m_time','content_img_url']]\n",
    "subset.drop_duplicates(inplace=True)"
   ]
  },
  {
   "cell_type": "code",
   "execution_count": null,
   "id": "0f9e0590",
   "metadata": {
    "ExecuteTime": {
     "start_time": "2021-12-27T16:06:35.070Z"
    },
    "id": "0f9e0590"
   },
   "outputs": [],
   "source": [
    "dataset = pd.merge(dataset, subset, how = 'left', on = 'content_id')"
   ]
  },
  {
   "cell_type": "markdown",
   "id": "c264243c",
   "metadata": {
    "id": "c264243c"
   },
   "source": [
    "## 완성된 dataset 추출"
   ]
  },
  {
   "cell_type": "code",
   "execution_count": null,
   "id": "aa59e522",
   "metadata": {
    "ExecuteTime": {
     "start_time": "2021-12-27T16:06:41.344Z"
    },
    "id": "aa59e522"
   },
   "outputs": [],
   "source": [
    "dataset.to_csv('./made_dataset.csv', index=False)"
   ]
  }
 ],
 "metadata": {
  "colab": {
   "collapsed_sections": [
    "98b06607"
   ],
   "name": "making_dataset.ipynb",
   "provenance": []
  },
  "kernelspec": {
   "display_name": "Python 3",
   "language": "python",
   "name": "python3"
  },
  "language_info": {
   "codemirror_mode": {
    "name": "ipython",
    "version": 3
   },
   "file_extension": ".py",
   "mimetype": "text/x-python",
   "name": "python",
   "nbconvert_exporter": "python",
   "pygments_lexer": "ipython3",
   "version": "3.8.8"
  },
  "toc": {
   "base_numbering": 1,
   "nav_menu": {},
   "number_sections": true,
   "sideBar": true,
   "skip_h1_title": false,
   "title_cell": "Table of Contents",
   "title_sidebar": "Contents",
   "toc_cell": false,
   "toc_position": {},
   "toc_section_display": true,
   "toc_window_display": false
  },
  "varInspector": {
   "cols": {
    "lenName": 16,
    "lenType": 16,
    "lenVar": 40
   },
   "kernels_config": {
    "python": {
     "delete_cmd_postfix": "",
     "delete_cmd_prefix": "del ",
     "library": "var_list.py",
     "varRefreshCmd": "print(var_dic_list())"
    },
    "r": {
     "delete_cmd_postfix": ") ",
     "delete_cmd_prefix": "rm(",
     "library": "var_list.r",
     "varRefreshCmd": "cat(var_dic_list()) "
    }
   },
   "types_to_exclude": [
    "module",
    "function",
    "builtin_function_or_method",
    "instance",
    "_Feature"
   ],
   "window_display": false
  }
 },
 "nbformat": 4,
 "nbformat_minor": 5
}
